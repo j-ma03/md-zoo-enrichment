{
 "cells": [
  {
   "cell_type": "code",
   "execution_count": null,
   "metadata": {},
   "outputs": [],
   "source": [
    "import os\n",
    "import numpy as np\n",
    "import matplotlib.pyplot as plt\n",
    "from dataloader import *"
   ]
  },
  {
   "cell_type": "markdown",
   "metadata": {},
   "source": [
    "### Load data"
   ]
  },
  {
   "cell_type": "code",
   "execution_count": null,
   "metadata": {},
   "outputs": [],
   "source": [
    "# Define data file names and paths\n",
    "DATA_NAME = 'ZOODATA_long'\n",
    "DATA_DIR =  'DATA'\n",
    "OUTPUT_DIR = 'OUTPUT'\n",
    "\n",
    "# Define data file path\n",
    "ZOODATA = f'{DATA_DIR}/{DATA_NAME}.txt'\n",
    "\n",
    "# Load data\n",
    "zoodata_dl = Dataloader.read_file(ZOODATA) "
   ]
  },
  {
   "cell_type": "markdown",
   "metadata": {},
   "source": [
    "### Take xyz average of each reading"
   ]
  },
  {
   "cell_type": "code",
   "execution_count": null,
   "metadata": {},
   "outputs": [],
   "source": [
    "imu_data = np.array(zoodata_dl.raw_data)\n",
    "imu_data_avg = []\n",
    "\n",
    "for row in imu_data:\n",
    "    avg = np.abs(np.mean(row[-3:]))\n",
    "    imu_data_avg.append(avg)\n",
    "\n",
    "imu_data_avg = np.array(imu_data_avg) "
   ]
  },
  {
   "cell_type": "markdown",
   "metadata": {},
   "source": [
    "### Graph"
   ]
  },
  {
   "cell_type": "code",
   "execution_count": null,
   "metadata": {},
   "outputs": [],
   "source": [
    "plt.plot(range(len(imu_data_avg)), imu_data_avg)\n",
    "plt.xlabel('Index')\n",
    "plt.ylabel('Average IMU Data')\n",
    "plt.title('Line Graph of IMU Data Averages')\n",
    "plt.show()"
   ]
  },
  {
   "cell_type": "markdown",
   "metadata": {},
   "source": [
    "### Get average acceleration per interval of time"
   ]
  },
  {
   "cell_type": "code",
   "execution_count": null,
   "metadata": {},
   "outputs": [],
   "source": [
    "time = imu_data[:, :6]\n",
    "imu_data_avg_time = np.column_stack((time, imu_data_avg))\n",
    "\n",
    "# specify interval of time and units of duration\n",
    "interval = 3 # col 4 = minutes\n",
    "duration = 4 # col 5 = seconds\n",
    "\n",
    "# # get the average of the IMU data for each duration\n",
    "# unique_seconds, unique_indices = np.unique(imu_data_avg_time[:, :5], return_index=True)\n",
    "\n",
    "# avg_per_second = []\n",
    "\n",
    "# for sec in unique_seconds:\n",
    "#     mask = imu_data_avg_time[:, 5] == sec\n",
    "#     avg_per_second.append(np.mean(imu_data_avg_time[mask, -1]))\n",
    "\n",
    "# avg_per_second = np.array(avg_per_second)\n",
    "\n",
    "# Get unique time stamps and their indices\n",
    "unique_times, unique_indices = np.unique(imu_data_avg_time[:, :6], axis=0, return_inverse=True)\n",
    "\n",
    "# Calculate the average acceleration for each unique time stamp\n",
    "avg_acceleration = np.array([imu_data_avg_time[unique_indices == i, 6].mean() for i in range(len(unique_times))])\n",
    "\n",
    "# Combine unique times with their corresponding average accelerations\n",
    "result = np.column_stack((unique_times, avg_acceleration))\n",
    "print(result.shape)\n",
    "\n",
    "# print(avg_per_second)\n",
    "# print(unique_indices)"
   ]
  },
  {
   "cell_type": "code",
   "execution_count": null,
   "metadata": {},
   "outputs": [],
   "source": [
    "threshold = 0.5\n",
    "\n",
    "# Get unique hour timestamps and their indices\n",
    "unique_hours, unique_indices = np.unique(result[:, :4], axis=0, return_inverse=True)\n",
    "\n",
    "# Count the number of minutes with acceleration readings greater than the threshold for each unique hour\n",
    "count_above_threshold = np.array([np.sum(result[unique_indices == i, 4] > threshold) for i in range(len(unique_hours))])\n",
    "\n",
    "# Combine unique hours with their corresponding counts\n",
    "result_with_counts = np.column_stack((unique_hours, count_above_threshold))\n",
    "\n",
    "# Save result_with_counts as a CSV file\n",
    "np.savetxt(f'{OUTPUT_DIR}/result_with_counts_per_hour.csv', result_with_counts, delimiter=',', header='Year,Month,Day,Hour,Count', comments='')\n",
    "\n",
    "time = result_with_counts[:, :4]\n",
    "count = result_with_counts[:, 4]\n",
    "# Create a list of labels for the x-axis\n",
    "labels = [f'{int(year)}-{int(month):02d}-{int(day):02d} {int(hour):02d}:00' for year, month, day, hour in time]\n",
    "\n",
    "plt.figure(figsize=(10, 6))\n",
    "plt.bar(range(len(count)), count)\n",
    "plt.xlabel('Time')\n",
    "plt.ylabel('Count of minutes with interaction')\n",
    "plt.title('Minutes of interaction per hour')\n",
    "plt.xticks(range(len(count)), labels, rotation=90)\n",
    "plt.tight_layout()\n",
    "plt.show()\n"
   ]
  },
  {
   "cell_type": "markdown",
   "metadata": {},
   "source": [
    "### count duration of interactions per interval of time"
   ]
  },
  {
   "cell_type": "code",
   "execution_count": null,
   "metadata": {},
   "outputs": [],
   "source": [
    "time = imu_data[:, :6]\n",
    "imu_data_avg_time = np.column_stack((time, imu_data_avg))\n",
    "\n",
    "# specify interval of time and units of duration\n",
    "interval = 4 # col 4 = minutes\n",
    "duration = 5 # col 5 = seconds\n",
    "\n",
    "# # get the average of the IMU data for each duration\n",
    "# unique_seconds, unique_indices = np.unique(imu_data_avg_time[:, :5], return_index=True)\n",
    "\n",
    "# avg_per_second = []\n",
    "\n",
    "# for sec in unique_seconds:\n",
    "#     mask = imu_data_avg_time[:, 5] == sec\n",
    "#     avg_per_second.append(np.mean(imu_data_avg_time[mask, -1]))\n",
    "\n",
    "# avg_per_second = np.array(avg_per_second)\n",
    "\n",
    "# Get unique time stamps and their indices\n",
    "unique_times, unique_indices = np.unique(imu_data_avg_time[:, :6], axis=0, return_inverse=True)\n",
    "\n",
    "# Calculate the average acceleration for each unique time stamp\n",
    "avg_acceleration = np.array([imu_data_avg_time[unique_indices == i, 6].mean() for i in range(len(unique_times))])\n",
    "\n",
    "# Combine unique times with their corresponding average accelerations\n",
    "result = np.column_stack((unique_times, avg_acceleration))\n",
    "print(result.shape)\n",
    "\n",
    "# print(avg_per_second)\n",
    "# print(unique_indices)"
   ]
  },
  {
   "cell_type": "code",
   "execution_count": null,
   "metadata": {},
   "outputs": [],
   "source": [
    "threshold = 0.5\n",
    "\n",
    "# Get unique minute timestamps and their indices\n",
    "unique_minutes, unique_indices = np.unique(result[:, :5], axis=0, return_inverse=True)\n",
    "# print(unique_minutes)\n",
    "\n",
    "# Count the number of acceleration readings greater than the threshold for each unique minute\n",
    "count_above_threshold = np.array([np.sum(result[unique_indices == i, 5] > threshold) for i in range(len(unique_minutes))])\n",
    "\n",
    "# Combine unique minutes with their corresponding counts\n",
    "result_with_counts = np.column_stack((unique_minutes, count_above_threshold))\n",
    "\n",
    "# Save result_with_counts as a CSV file\n",
    "np.savetxt(f'{OUTPUT_DIR}/result_with_counts.csv', result_with_counts, delimiter=',', header='Year,Month,Day,Hour,Minute,Duration(sec)', comments='')\n",
    "\n",
    "# print(result_with_counts)\n",
    "# print(result_with_counts[:, :interval+1])\n",
    "# print(result_with_counts[:, duration])\n",
    "\n",
    "time = result_with_counts[:, :interval+1]\n",
    "count = result_with_counts[:, duration]\n",
    "# Create a list of labels for the x-axis\n",
    "labels = [f'{int(year)}-{int(month):02d}-{int(day):02d} {int(hour):02d}:{int(minute):02d}' for year, month, day, hour, minute in time]\n",
    "\n",
    "plt.figure(figsize=(10, 6))\n",
    "plt.bar(range(len(count)), count)\n",
    "plt.xlabel('Time')\n",
    "plt.ylabel('Duration of interaction(seconds)')\n",
    "plt.title('Seconds of interaction per minute')\n",
    "plt.xticks(range(len(count)), labels, rotation=90)\n",
    "plt.tight_layout()\n",
    "plt.show()\n"
   ]
  }
 ],
 "metadata": {
  "kernelspec": {
   "display_name": "imu_data_processing",
   "language": "python",
   "name": "python3"
  },
  "language_info": {
   "codemirror_mode": {
    "name": "ipython",
    "version": 3
   },
   "file_extension": ".py",
   "mimetype": "text/x-python",
   "name": "python",
   "nbconvert_exporter": "python",
   "pygments_lexer": "ipython3",
   "version": "3.11.11"
  }
 },
 "nbformat": 4,
 "nbformat_minor": 2
}
